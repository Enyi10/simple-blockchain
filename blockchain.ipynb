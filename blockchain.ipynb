{
  "nbformat": 4,
  "nbformat_minor": 0,
  "metadata": {
    "colab": {
      "provenance": [],
      "authorship_tag": "ABX9TyNa2sc5mDONAQAa5vJ+ZC4Y",
      "include_colab_link": true
    },
    "kernelspec": {
      "name": "python3",
      "display_name": "Python 3"
    },
    "language_info": {
      "name": "python"
    }
  },
  "cells": [
    {
      "cell_type": "markdown",
      "metadata": {
        "id": "view-in-github",
        "colab_type": "text"
      },
      "source": [
        "<a href=\"https://colab.research.google.com/github/Enyi10/simple-blockchain/blob/main/blockchain.ipynb\" target=\"_parent\"><img src=\"https://colab.research.google.com/assets/colab-badge.svg\" alt=\"Open In Colab\"/></a>"
      ]
    },
    {
      "cell_type": "markdown",
      "source": [
        "# Blockchain Project  \n",
        "\n",
        "This project is a simple implementation of blockchain technology using Python.  \n",
        "It will demonstrate how blocks are created, linked with hashes, and validated to ensure security and transparency.  \n",
        "\n"
      ],
      "metadata": {
        "id": "Lab9SbE9Xgku"
      }
    },
    {
      "cell_type": "code",
      "source": [
        "# Test the environment\n",
        "print(\"Hello Blockchain - Project Initialized \")\n"
      ],
      "metadata": {
        "colab": {
          "base_uri": "https://localhost:8080/"
        },
        "id": "_O59rgHDXy9E",
        "outputId": "f5bcb552-3c6a-406c-bfd8-87762c0042ef"
      },
      "execution_count": 1,
      "outputs": [
        {
          "output_type": "stream",
          "name": "stdout",
          "text": [
            "Hello Blockchain - Project Initialized \n"
          ]
        }
      ]
    }
  ]
}